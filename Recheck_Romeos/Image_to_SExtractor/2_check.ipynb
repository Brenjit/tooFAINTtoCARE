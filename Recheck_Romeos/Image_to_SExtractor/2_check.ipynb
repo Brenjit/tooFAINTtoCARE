{
 "cells": [
  {
   "cell_type": "code",
   "execution_count": 7,
   "id": "09814798",
   "metadata": {},
   "outputs": [
    {
     "data": {
      "text/html": [
       "<table border=1><tr><th>ID</th><th>Filter</th><th>FLUX_AUTO</th><th>FLUXERR_AUTO</th><th>SNR</th></tr><tr><td>1398</td><td>F115W</td><td>0.4023</td><td>0.0430</td><td>9.35</td></tr><tr><td>1398</td><td>F150W</td><td>1.2756</td><td>0.0002</td><td>6932.01</td></tr><tr><td>1398</td><td>F200W</td><td>0.9653</td><td>0.0001</td><td>6848.42</td></tr><tr><td>1398</td><td>F277W</td><td>1.2448</td><td>0.0001</td><td>13662.09</td></tr><tr><td>1398</td><td>F356W</td><td>1.1712</td><td>0.0385</td><td>30.45</td></tr><tr><td>1398</td><td>F410W</td><td>nan</td><td>nan</td><td>nan</td></tr><tr><td>1398</td><td>F444W</td><td>1.8069</td><td>0.0001</td><td>23750.40</td></tr><tr><td>2080</td><td>F115W</td><td>0.1541</td><td>0.0520</td><td>2.96</td></tr><tr><td>2080</td><td>F150W</td><td>1.4796</td><td>0.0002</td><td>6650.58</td></tr><tr><td>2080</td><td>F200W</td><td>1.4388</td><td>0.0002</td><td>8442.99</td></tr><tr><td>2080</td><td>F277W</td><td>1.2350</td><td>0.0001</td><td>11211.36</td></tr><tr><td>2080</td><td>F356W</td><td>1.1532</td><td>0.0465</td><td>24.80</td></tr><tr><td>2080</td><td>F410W</td><td>nan</td><td>nan</td><td>nan</td></tr><tr><td>2080</td><td>F444W</td><td>2.0389</td><td>0.0001</td><td>22167.16</td></tr><tr><td>2288</td><td>F115W</td><td>0.4860</td><td>0.0399</td><td>12.19</td></tr><tr><td>2288</td><td>F150W</td><td>0.9291</td><td>0.0002</td><td>5446.98</td></tr><tr><td>2288</td><td>F200W</td><td>0.9789</td><td>0.0001</td><td>7492.14</td></tr><tr><td>2288</td><td>F277W</td><td>0.6377</td><td>0.0001</td><td>7550.32</td></tr><tr><td>2288</td><td>F356W</td><td>0.4401</td><td>0.0357</td><td>12.34</td></tr><tr><td>2288</td><td>F410W</td><td>nan</td><td>nan</td><td>nan</td></tr><tr><td>2288</td><td>F444W</td><td>0.7030</td><td>0.0001</td><td>9968.43</td></tr><tr><td>4493</td><td>F115W</td><td>2.2041</td><td>0.0744</td><td>29.61</td></tr><tr><td>4493</td><td>F150W</td><td>4.4309</td><td>0.0003</td><td>13916.76</td></tr><tr><td>4493</td><td>F200W</td><td>3.3023</td><td>0.0002</td><td>13540.38</td></tr><tr><td>4493</td><td>F277W</td><td>3.8840</td><td>0.0002</td><td>24637.53</td></tr><tr><td>4493</td><td>F356W</td><td>2.4801</td><td>0.0666</td><td>37.26</td></tr><tr><td>4493</td><td>F410W</td><td>nan</td><td>nan</td><td>nan</td></tr><tr><td>4493</td><td>F444W</td><td>2.8101</td><td>0.0001</td><td>21347.74</td></tr><tr><td>6986</td><td>F115W</td><td>0.5824</td><td>0.0435</td><td>13.39</td></tr><tr><td>6986</td><td>F150W</td><td>1.9764</td><td>0.0002</td><td>10627.56</td></tr><tr><td>6986</td><td>F200W</td><td>0.9588</td><td>0.0001</td><td>6730.72</td></tr><tr><td>6986</td><td>F277W</td><td>0.8733</td><td>0.0001</td><td>9484.50</td></tr><tr><td>6986</td><td>F356W</td><td>1.0299</td><td>0.0389</td><td>26.49</td></tr><tr><td>6986</td><td>F410W</td><td>nan</td><td>nan</td><td>nan</td></tr><tr><td>6986</td><td>F444W</td><td>0.9556</td><td>0.0001</td><td>12428.56</td></tr><tr><td>8954</td><td>F115W</td><td>0.0128</td><td>0.0484</td><td>0.27</td></tr><tr><td>8954</td><td>F150W</td><td>1.6382</td><td>0.0002</td><td>7921.75</td></tr><tr><td>8954</td><td>F200W</td><td>1.0318</td><td>0.0002</td><td>6513.41</td></tr><tr><td>8954</td><td>F277W</td><td>1.2739</td><td>0.0001</td><td>12441.59</td></tr><tr><td>8954</td><td>F356W</td><td>1.3130</td><td>0.0432</td><td>30.37</td></tr><tr><td>8954</td><td>F410W</td><td>nan</td><td>nan</td><td>nan</td></tr><tr><td>8954</td><td>F444W</td><td>2.1234</td><td>0.0001</td><td>24836.32</td></tr><tr><td>9454</td><td>F115W</td><td>0.1392</td><td>0.0381</td><td>3.65</td></tr><tr><td>9454</td><td>F150W</td><td>1.0498</td><td>0.0002</td><td>6435.61</td></tr><tr><td>9454</td><td>F200W</td><td>1.0491</td><td>0.0001</td><td>8395.85</td></tr><tr><td>9454</td><td>F277W</td><td>0.8163</td><td>0.0001</td><td>10106.00</td></tr><tr><td>9454</td><td>F356W</td><td>0.6980</td><td>0.0341</td><td>20.47</td></tr><tr><td>9454</td><td>F410W</td><td>nan</td><td>nan</td><td>nan</td></tr><tr><td>9454</td><td>F444W</td><td>0.8479</td><td>0.0001</td><td>12571.94</td></tr><tr><td>11712</td><td>F115W</td><td>0.0365</td><td>0.0345</td><td>1.06</td></tr><tr><td>11712</td><td>F150W</td><td>0.7345</td><td>0.0001</td><td>4980.92</td></tr><tr><td>11712</td><td>F200W</td><td>0.8017</td><td>0.0001</td><td>7097.78</td></tr><tr><td>11712</td><td>F277W</td><td>0.8859</td><td>0.0001</td><td>12132.84</td></tr><tr><td>11712</td><td>F356W</td><td>0.9951</td><td>0.0308</td><td>32.28</td></tr><tr><td>11712</td><td>F410W</td><td>nan</td><td>nan</td><td>nan</td></tr><tr><td>11712</td><td>F444W</td><td>1.7282</td><td>0.0001</td><td>28346.71</td></tr><tr><td>14604</td><td>F115W</td><td>0.6179</td><td>0.0395</td><td>15.66</td></tr><tr><td>14604</td><td>F150W</td><td>1.2175</td><td>0.0002</td><td>7215.27</td></tr><tr><td>14604</td><td>F200W</td><td>0.9891</td><td>0.0001</td><td>7651.60</td></tr><tr><td>14604</td><td>F277W</td><td>0.7259</td><td>0.0001</td><td>8687.35</td></tr><tr><td>14604</td><td>F356W</td><td>0.5152</td><td>0.0353</td><td>14.61</td></tr><tr><td>14604</td><td>F410W</td><td>nan</td><td>nan</td><td>nan</td></tr><tr><td>14604</td><td>F444W</td><td>0.9987</td><td>0.0001</td><td>14315.44</td></tr></table>"
      ],
      "text/plain": [
       "<IPython.core.display.HTML object>"
      ]
     },
     "metadata": {},
     "output_type": "display_data"
    },
    {
     "name": "stdout",
     "output_type": "stream",
     "text": [
      "\n",
      "✅ Table saved as /Volumes/MY_SSD_1TB/Work_PhD/July-August/CEERS_data/SEP_JWST/Results/nircam8/catalogue_z7/nircam8_SNR_table.txt\n"
     ]
    }
   ],
   "source": [
    "import numpy as np\n",
    "from astropy.io import ascii\n",
    "import os\n",
    "\n",
    "# === Config ===\n",
    "base_dir = \"/Volumes/MY_SSD_1TB/Work_PhD/July-August/CEERS_data/SEP_JWST/Results/nircam8/catalogue_z7/\"\n",
    "filters = [\"f115w\", \"f150w\", \"f200w\", \"f277w\", \"f356w\", \"f410w\", \"f444w\"]\n",
    "object_ids = [1398, 2080, 2288, 4493, 6986, 8954, 9454, 11712, 14604]\n",
    "\n",
    "rows = []\n",
    "\n",
    "for obj_id in object_ids:\n",
    "    for flt in filters:\n",
    "        cat_path = os.path.join(base_dir, f\"f150dropout_{flt}_catalog.cat\")\n",
    "        flux, fluxerr, snr = np.nan, np.nan, np.nan\n",
    "        if os.path.exists(cat_path):\n",
    "            cat = ascii.read(cat_path)\n",
    "\n",
    "            # Find row where NUMBER == obj_id\n",
    "            match = cat[cat[\"NUMBER\"] == obj_id]\n",
    "\n",
    "            if len(match) > 0:  # object found\n",
    "                flux = match[\"FLUX_AUTO\"][0]\n",
    "                fluxerr = match[\"FLUXERR_AUTO\"][0]\n",
    "                snr = flux / fluxerr if fluxerr > 0 else np.nan\n",
    "\n",
    "        rows.append((obj_id, flt.upper(), flux, fluxerr, snr))\n",
    "\n",
    "# === Show table inline ===\n",
    "from IPython.display import display, HTML\n",
    "\n",
    "html_table = \"<table border=1><tr><th>ID</th><th>Filter</th><th>FLUX_AUTO</th><th>FLUXERR_AUTO</th><th>SNR</th></tr>\"\n",
    "for row in rows:\n",
    "    html_table += f\"<tr><td>{row[0]}</td><td>{row[1]}</td><td>{row[2]:.4f}</td><td>{row[3]:.4f}</td><td>{row[4]:.2f}</td></tr>\"\n",
    "html_table += \"</table>\"\n",
    "\n",
    "display(HTML(html_table))\n",
    "\n",
    "# === Save to TXT ===\n",
    "txt_filename = os.path.join(base_dir, \"nircam8_SNR_table.txt\")\n",
    "with open(txt_filename, \"w\") as f:\n",
    "    f.write(f\"{'ID':<8}{'Filter':<8}{'FLUX_AUTO':>15}{'FLUXERR_AUTO':>15}{'SNR':>15}\\n\")\n",
    "    f.write(\"=\"*65 + \"\\n\")\n",
    "    for row in rows:\n",
    "        f.write(f\"{row[0]:<8}{row[1]:<8}{row[2]:>15.4f}{row[3]:>15.4f}{row[4]:>15.2f}\\n\")\n",
    "\n",
    "print(f\"\\n✅ Table saved as {txt_filename}\")\n"
   ]
  },
  {
   "cell_type": "code",
   "execution_count": null,
   "id": "7975d1aa",
   "metadata": {},
   "outputs": [],
   "source": []
  }
 ],
 "metadata": {
  "kernelspec": {
   "display_name": "base",
   "language": "python",
   "name": "python3"
  },
  "language_info": {
   "codemirror_mode": {
    "name": "ipython",
    "version": 3
   },
   "file_extension": ".py",
   "mimetype": "text/x-python",
   "name": "python",
   "nbconvert_exporter": "python",
   "pygments_lexer": "ipython3",
   "version": "3.11.5"
  }
 },
 "nbformat": 4,
 "nbformat_minor": 5
}
